{
 "cells": [
  {
   "cell_type": "markdown",
   "metadata": {},
   "source": [
    "### Interoperability\n",
    "Cirq also allows of import and export of Quantum gates, circuits from other programming languages\n",
    "\n",
    "### Exporting and Importing to JSON\n",
    "For storing circuits or for transfering them between collaborators, JSON can be a good choice. Many objects in cirq can be serialized as JSON and then stored as a text file for transfer, storage, or for posterity.\n",
    "\n",
    "Any object that can be serialized, which includes circuits, moments, gates, operations, and many other cirq constructs, can be turned into JSON with the protocol cirq.to_json(obj). This will return a string that contains the serialized JSON.\n",
    "\n",
    "To take JSON and turn it back into a cirq object, the protocol cirq.read_json can be used. This can take a python file or string filename as the first argument (file_or_fn) or can take a named json_text parameter to accept a string input.\n",
    "\n",
    "The following shows how to serialize and de-serialize a circuit."
   ]
  },
  {
   "cell_type": "code",
   "execution_count": 5,
   "metadata": {},
   "outputs": [
    {
     "name": "stdout",
     "output_type": "stream",
     "text": [
      "(1, 1): ───Z───\n",
      "JSON String\n",
      "{\n",
      "  \"cirq_type\": \"Circuit\",\n",
      "  \"moments\": [\n",
      "    {\n",
      "      \"cirq_type\": \"Moment\",\n",
      "      \"operations\": [\n",
      "        {\n",
      "          \"cirq_type\": \"SingleQubitPauliStringGateOperation\",\n",
      "          \"pauli\": {\n",
      "            \"cirq_type\": \"_PauliZ\",\n",
      "            \"exponent\": 1.0,\n",
      "            \"global_shift\": 0.0\n",
      "          },\n",
      "          \"qubit\": {\n",
      "            \"cirq_type\": \"GridQubit\",\n",
      "            \"row\": 1,\n",
      "            \"col\": 1\n",
      "          }\n",
      "        }\n",
      "      ]\n",
      "    }\n",
      "  ],\n",
      "  \"device\": {\n",
      "    \"cirq_type\": \"_UnconstrainedDevice\"\n",
      "  }\n",
      "}\n",
      "\n",
      "Deserialized object of type: <class 'cirq.circuits.circuit.Circuit'>:\n",
      "(1, 1): ───Z───\n"
     ]
    }
   ],
   "source": [
    "import cirq\n",
    "\n",
    "# Example Cirquit\n",
    "\n",
    "circuit= cirq.Circuit(cirq.Z(cirq.GridQubit(1,1)))\n",
    "\n",
    "print(circuit)\n",
    "\n",
    "# Serialize to JSON string\n",
    "json_string = cirq.to_json(circuit)\n",
    "print('JSON String')\n",
    "print(json_string)\n",
    "print()\n",
    "\n",
    "# Now read back the string into a Cirq object\n",
    "# cirq.read_json can also read from the file\n",
    "new_circuit = cirq.read_json(json_text=json_string)\n",
    "\n",
    "print(f'Deserialized object of type: {type(new_circuit)}:')\n",
    "print(new_circuit)"
   ]
  },
  {
   "cell_type": "markdown",
   "metadata": {},
   "source": [
    "### Importing from OpenQASM\n",
    "The QASM importer is in an experimental state and currently only supports a subset of the full OpenQASM spec. Amongst others, classical control, arbitrary gate definitions, and even some of the gates that don’t have a one-to-one representation in Cirq, are not yet supported. The functionality should be sufficient to import interesting quantum circuits. Error handling is very simple - on any lexical or syntactical error, a QasmException is raised."
   ]
  },
  {
   "cell_type": "code",
   "execution_count": 6,
   "metadata": {},
   "outputs": [],
   "source": [
    "!pip install --quiet cirq\n",
    "!pip install --quiet ply==3.4"
   ]
  },
  {
   "cell_type": "code",
   "execution_count": 7,
   "metadata": {},
   "outputs": [
    {
     "name": "stdout",
     "output_type": "stream",
     "text": [
      "q_0: ───H───M('meas_0')───\n",
      "\n",
      "q_1: ───H───M('meas_1')───\n",
      "\n",
      "q_2: ───H───M('meas_2')───\n"
     ]
    }
   ],
   "source": [
    "from cirq.contrib.qasm_import import circuit_from_qasm\n",
    "circuit = circuit_from_qasm(\"\"\"\n",
    "    OPENQASM 2.0;\n",
    "    include \"qelib1.inc\";\n",
    "    qreg q[3];\n",
    "    creg meas[3];\n",
    "    h q;\n",
    "    measure q -> meas;\n",
    "    \"\"\")\n",
    "print(circuit)"
   ]
  },
  {
   "cell_type": "markdown",
   "metadata": {},
   "source": [
    "### Importing from Quirk\n",
    "Quirk is a drag-and-drop quantum circuit simulator, great for manipulating and exploring small quantum circuits. Quirk’s visual style gives a reasonably intuitive feel of what is happening, state displays update in real time as you change the circuit, and the general experience is fast and interactive.\n",
    "\n",
    "After constructing a circuit in Quirk, you can easily convert it to cirq using the URL generated. Note that not all gates in Quirk are currently convertible"
   ]
  },
  {
   "cell_type": "code",
   "execution_count": 8,
   "metadata": {},
   "outputs": [
    {
     "name": "stdout",
     "output_type": "stream",
     "text": [
      "0: ───H───@───H───\n",
      "          │\n",
      "1: ───H───X───H───\n"
     ]
    }
   ],
   "source": [
    "quirk_url = \"https://algassert.com/quirk#circuit={%22cols%22:[[%22H%22,%22H%22],[%22%E2%80%A2%22,%22X%22],[%22H%22,%22H%22]]}\"\n",
    "c= cirq.quirk_url_to_circuit(quirk_url)\n",
    "\n",
    "print(c)"
   ]
  },
  {
   "cell_type": "code",
   "execution_count": 9,
   "metadata": {},
   "outputs": [
    {
     "name": "stdout",
     "output_type": "stream",
     "text": [
      "0: ───H───@───H───\n",
      "          │\n",
      "1: ───H───X───H───\n"
     ]
    }
   ],
   "source": [
    "import json\n",
    "\n",
    "quirk_str=\"\"\"{\n",
    "  \"cols\": [\n",
    "    [\n",
    "      \"H\",\n",
    "      \"H\"\n",
    "    ],\n",
    "    [\n",
    "      \"•\",\n",
    "      \"X\"\n",
    "    ],\n",
    "    [\n",
    "      \"H\",\n",
    "      \"H\"\n",
    "    ]\n",
    "  ]\n",
    "}\"\"\"\n",
    "quirk_json=json.loads(quirk_str)\n",
    "c= cirq.quirk_json_to_circuit(quirk_json)\n",
    "\n",
    "print(c)"
   ]
  }
 ],
 "metadata": {
  "kernelspec": {
   "display_name": "Python 3",
   "language": "python",
   "name": "python3"
  },
  "language_info": {
   "codemirror_mode": {
    "name": "ipython",
    "version": 3
   },
   "file_extension": ".py",
   "mimetype": "text/x-python",
   "name": "python",
   "nbconvert_exporter": "python",
   "pygments_lexer": "ipython3",
   "version": "3.6.8"
  }
 },
 "nbformat": 4,
 "nbformat_minor": 4
}
