{
 "cells": [
  {
   "cell_type": "markdown",
   "metadata": {},
   "source": [
    "### Devices\n",
    "The Device class is an abstract class which encapsulates constraints (or lack thereof) that come when running a circuit on actual hardware. For instance, most hardware only allows certain gates to be enacted on qubits. Or, as another example, some gates may be constrained to not be able to run at the same time as neighboring gates. Further the Device class knows more about the scheduling of Operations.\n",
    "\n",
    "Here for example is a Device made up of 10 qubits on a line:"
   ]
  },
  {
   "cell_type": "code",
   "execution_count": 4,
   "metadata": {},
   "outputs": [],
   "source": [
    "import cirq\n",
    "from cirq.devices import GridQubit\n",
    "class Xmon10Device(cirq.Device):\n",
    "\n",
    "  def __init__(self):\n",
    "      self.qubits = [GridQubit(i, 0) for i in range(10)]\n",
    "\n",
    "  def validate_operation(self, operation):\n",
    "      if not isinstance(operation, cirq.GateOperation):\n",
    "          raise ValueError('{!r} is not a supported operation'.format(operation))\n",
    "      if not isinstance(operation.gate, (cirq.CZPowGate,\n",
    "                                         cirq.XPowGate,\n",
    "                                         cirq.PhasedXPowGate,\n",
    "                                         cirq.YPowGate)):\n",
    "          raise ValueError('{!r} is not a supported gate'.format(operation.gate))\n",
    "      if len(operation.qubits) == 2:\n",
    "          p, q = operation.qubits\n",
    "          if not p.is_adjacent(q):\n",
    "            raise ValueError('Non-local interaction: {}'.format(repr(operation)))\n",
    "\n",
    "\n",
    "  def validate_circuit(self, circuit):\n",
    "      for moment in circuit:\n",
    "          for operation in moment.operations:\n",
    "              self.validate_operation(operation)"
   ]
  },
  {
   "cell_type": "code",
   "execution_count": 5,
   "metadata": {},
   "outputs": [
    {
     "name": "stdout",
     "output_type": "stream",
     "text": [
      "Non-local interaction: cirq.CZ(cirq.GridQubit(0, 0), cirq.GridQubit(2, 0))\n"
     ]
    }
   ],
   "source": [
    "device = Xmon10Device()\n",
    "circuit = cirq.Circuit()\n",
    "circuit.append([cirq.CZ(device.qubits[0], device.qubits[2])])\n",
    "try: \n",
    "  device.validate_circuit(circuit)\n",
    "except ValueError as e:\n",
    "  print(e)\n",
    "# prints something like\n",
    "# ValueError: Non-local interaction: Operation(cirq.CZ, (GridQubit(0, 0), GridQubit(2, 0)))"
   ]
  },
  {
   "cell_type": "code",
   "execution_count": null,
   "metadata": {},
   "outputs": [],
   "source": []
  }
 ],
 "metadata": {
  "kernelspec": {
   "display_name": "Python 3",
   "language": "python",
   "name": "python3"
  },
  "language_info": {
   "codemirror_mode": {
    "name": "ipython",
    "version": 3
   },
   "file_extension": ".py",
   "mimetype": "text/x-python",
   "name": "python",
   "nbconvert_exporter": "python",
   "pygments_lexer": "ipython3",
   "version": "3.6.8"
  }
 },
 "nbformat": 4,
 "nbformat_minor": 4
}
