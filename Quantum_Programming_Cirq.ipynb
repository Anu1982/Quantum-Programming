{
 "cells": [
  {
   "cell_type": "markdown",
   "metadata": {},
   "source": [
    "# Cirq Notebook on Quantum Programming"
   ]
  },
  {
   "cell_type": "markdown",
   "metadata": {},
   "source": [
    "## We are now starting to load the cirq libraries"
   ]
  },
  {
   "cell_type": "code",
   "execution_count": 6,
   "metadata": {},
   "outputs": [
    {
     "name": "stdout",
     "output_type": "stream",
     "text": [
      "Defaulting to user installation because normal site-packages is not writeable\n",
      "Requirement already up-to-date: pip in /home/anukool/.local/lib/python3.6/site-packages (20.1.1)\n",
      "Note: you may need to restart the kernel to use updated packages.\n"
     ]
    }
   ],
   "source": [
    "pip install --upgrade pip"
   ]
  },
  {
   "cell_type": "code",
   "execution_count": 1,
   "metadata": {},
   "outputs": [],
   "source": [
    "### In the below cell we are installing the cirq library, its a software library for writing, manipulating, and optimizing quantum circuits and then running them against quantum computers and simulators."
   ]
  },
  {
   "cell_type": "code",
   "execution_count": 1,
   "metadata": {
    "scrolled": true
   },
   "outputs": [
    {
     "name": "stdout",
     "output_type": "stream",
     "text": [
      "Defaulting to user installation because normal site-packages is not writeable\n",
      "Requirement already satisfied: cirq in /home/anukool/.local/lib/python3.6/site-packages (0.8.1)\n",
      "Requirement already satisfied: dataclasses; python_version < \"3.7\" in /home/anukool/.local/lib/python3.6/site-packages (from cirq) (0.7)\n",
      "Requirement already satisfied: typing-extensions in /home/anukool/.local/lib/python3.6/site-packages (from cirq) (3.7.4.2)\n",
      "Requirement already satisfied: requests~=2.18 in /usr/lib/python3.6/site-packages (from cirq) (2.20.0)\n",
      "Requirement already satisfied: scipy in /home/anukool/.local/lib/python3.6/site-packages (from cirq) (1.5.1)\n",
      "Requirement already satisfied: networkx~=2.4 in /home/anukool/.local/lib/python3.6/site-packages (from cirq) (2.4)\n",
      "Requirement already satisfied: freezegun~=0.3.15 in /home/anukool/.local/lib/python3.6/site-packages (from cirq) (0.3.15)\n",
      "Requirement already satisfied: protobuf==3.8.0 in /home/anukool/.local/lib/python3.6/site-packages (from cirq) (3.8.0)\n",
      "Requirement already satisfied: sortedcontainers~=2.0 in /home/anukool/.local/lib/python3.6/site-packages (from cirq) (2.2.2)\n",
      "Requirement already satisfied: numpy~=1.16 in /home/anukool/.local/lib/python3.6/site-packages (from cirq) (1.19.0)\n",
      "Requirement already satisfied: sympy in /home/anukool/.local/lib/python3.6/site-packages (from cirq) (1.6.1)\n",
      "Requirement already satisfied: matplotlib~=3.0 in /home/anukool/.local/lib/python3.6/site-packages (from cirq) (3.2.2)\n",
      "Requirement already satisfied: pandas in /home/anukool/.local/lib/python3.6/site-packages (from cirq) (1.0.5)\n",
      "Requirement already satisfied: google-api-core[grpc]<2.0.0dev,>=1.14.0 in /home/anukool/.local/lib/python3.6/site-packages (from cirq) (1.21.0)\n",
      "Requirement already satisfied: chardet<3.1.0,>=3.0.2 in /usr/lib/python3.6/site-packages (from requests~=2.18->cirq) (3.0.4)\n",
      "Requirement already satisfied: idna<2.8,>=2.5 in /usr/lib/python3.6/site-packages (from requests~=2.18->cirq) (2.5)\n",
      "Requirement already satisfied: urllib3<1.25,>=1.21.1 in /usr/lib/python3.6/site-packages (from requests~=2.18->cirq) (1.24.2)\n",
      "Requirement already satisfied: decorator>=4.3.0 in /home/anukool/.local/lib/python3.6/site-packages (from networkx~=2.4->cirq) (4.4.2)\n",
      "Requirement already satisfied: python-dateutil!=2.0,>=1.0 in /usr/lib/python3.6/site-packages (from freezegun~=0.3.15->cirq) (2.6.1)\n",
      "Requirement already satisfied: six in /usr/lib/python3.6/site-packages (from freezegun~=0.3.15->cirq) (1.11.0)\n",
      "Requirement already satisfied: setuptools in /usr/lib/python3.6/site-packages (from protobuf==3.8.0->cirq) (39.2.0)\n",
      "Requirement already satisfied: mpmath>=0.19 in /home/anukool/.local/lib/python3.6/site-packages (from sympy->cirq) (1.1.0)\n",
      "Requirement already satisfied: kiwisolver>=1.0.1 in /home/anukool/.local/lib/python3.6/site-packages (from matplotlib~=3.0->cirq) (1.2.0)\n",
      "Requirement already satisfied: pyparsing!=2.0.4,!=2.1.2,!=2.1.6,>=2.0.1 in /home/anukool/.local/lib/python3.6/site-packages (from matplotlib~=3.0->cirq) (2.4.7)\n",
      "Requirement already satisfied: cycler>=0.10 in /home/anukool/.local/lib/python3.6/site-packages (from matplotlib~=3.0->cirq) (0.10.0)\n",
      "Requirement already satisfied: pytz>=2017.2 in /usr/lib/python3.6/site-packages (from pandas->cirq) (2017.2)\n",
      "Requirement already satisfied: google-auth<2.0dev,>=1.18.0 in /home/anukool/.local/lib/python3.6/site-packages (from google-api-core[grpc]<2.0.0dev,>=1.14.0->cirq) (1.18.0)\n",
      "Requirement already satisfied: googleapis-common-protos<2.0dev,>=1.6.0 in /home/anukool/.local/lib/python3.6/site-packages (from google-api-core[grpc]<2.0.0dev,>=1.14.0->cirq) (1.52.0)\n",
      "Requirement already satisfied: grpcio<2.0dev,>=1.29.0; extra == \"grpc\" in /home/anukool/.local/lib/python3.6/site-packages (from google-api-core[grpc]<2.0.0dev,>=1.14.0->cirq) (1.30.0)\n",
      "Requirement already satisfied: cachetools<5.0,>=2.0.0 in /home/anukool/.local/lib/python3.6/site-packages (from google-auth<2.0dev,>=1.18.0->google-api-core[grpc]<2.0.0dev,>=1.14.0->cirq) (4.1.1)\n",
      "Requirement already satisfied: pyasn1-modules>=0.2.1 in /home/anukool/.local/lib/python3.6/site-packages (from google-auth<2.0dev,>=1.18.0->google-api-core[grpc]<2.0.0dev,>=1.14.0->cirq) (0.2.8)\n",
      "Requirement already satisfied: rsa<5,>=3.1.4; python_version >= \"3\" in /home/anukool/.local/lib/python3.6/site-packages (from google-auth<2.0dev,>=1.18.0->google-api-core[grpc]<2.0.0dev,>=1.14.0->cirq) (4.6)\n",
      "Requirement already satisfied: pyasn1<0.5.0,>=0.4.6 in /home/anukool/.local/lib/python3.6/site-packages (from pyasn1-modules>=0.2.1->google-auth<2.0dev,>=1.18.0->google-api-core[grpc]<2.0.0dev,>=1.14.0->cirq) (0.4.8)\n",
      "Note: you may need to restart the kernel to use updated packages.\n"
     ]
    }
   ],
   "source": [
    "pip install cirq"
   ]
  },
  {
   "cell_type": "code",
   "execution_count": 4,
   "metadata": {},
   "outputs": [],
   "source": [
    "import cirq"
   ]
  },
  {
   "cell_type": "code",
   "execution_count": 3,
   "metadata": {},
   "outputs": [
    {
     "name": "stdout",
     "output_type": "stream",
     "text": [
      "(0, 0)───(0, 1)───(0, 2)───(0, 3)───(0, 4)───(0, 5)───(0, 6)───(0, 7)───(0, 8)───(0, 9)───(0, 10)\n",
      "│        │        │        │        │        │        │        │        │        │        │\n",
      "│        │        │        │        │        │        │        │        │        │        │\n",
      "(1, 0)───(1, 1)───(1, 2)───(1, 3)───(1, 4)───(1, 5)───(1, 6)───(1, 7)───(1, 8)───(1, 9)───(1, 10)\n"
     ]
    }
   ],
   "source": [
    "print(cirq.google.Foxtail)"
   ]
  },
  {
   "cell_type": "code",
   "execution_count": 1,
   "metadata": {},
   "outputs": [],
   "source": [
    "## Basic Level Circuit"
   ]
  },
  {
   "cell_type": "markdown",
   "metadata": {},
   "source": [
    "### The most Basic level program considering all the factors will be something which will have a certain amount of qubits, logic gates and output. Import cirq and define Grid QuBits"
   ]
  },
  {
   "cell_type": "code",
   "execution_count": 5,
   "metadata": {},
   "outputs": [
    {
     "name": "stdout",
     "output_type": "stream",
     "text": [
      "[cirq.GridQubit(0, 0), cirq.GridQubit(0, 1), cirq.GridQubit(0, 2), cirq.GridQubit(1, 0), cirq.GridQubit(1, 1), cirq.GridQubit(1, 2), cirq.GridQubit(2, 0), cirq.GridQubit(2, 1), cirq.GridQubit(2, 2)]\n"
     ]
    }
   ],
   "source": [
    "length = 3\n",
    "qubits = [cirq.GridQubit(i,j) for  i in range(length) for j in range(length)]\n",
    "print(qubits)"
   ]
  },
  {
   "cell_type": "markdown",
   "metadata": {},
   "source": [
    "## Quantum Logic Gates"
   ]
  },
  {
   "cell_type": "markdown",
   "metadata": {},
   "source": [
    "### CNOT Gate and measurement"
   ]
  },
  {
   "cell_type": "code",
   "execution_count": 21,
   "metadata": {},
   "outputs": [
    {
     "name": "stdout",
     "output_type": "stream",
     "text": [
      "Circuit:\n",
      "(0, 0): ───X───M('m')───\n",
      "Results:\n",
      "m=11111111111111111111\n"
     ]
    }
   ],
   "source": [
    "### Define the CNOT Gate\n",
    "qubit = cirq.GridQubit(0, 0)\n",
    "\n",
    "#create a circuit\n",
    "circuit = cirq.Circuit([\n",
    "    cirq.X(qubit),\n",
    "    cirq.measure(qubit, key = 'm') #measurement\n",
    "]\n",
    ")\n",
    "\n",
    "print(\"Circuit:\")\n",
    "print(circuit)\n",
    "\n",
    "simulator = cirq.Simulator()\n",
    "result = simulator.run(circuit, repetitions=20)\n",
    "print(\"Results:\")\n",
    "print(result)"
   ]
  },
  {
   "cell_type": "markdown",
   "metadata": {},
   "source": [
    "*Preparing the Bell State, in the below section we are going to be creating a ciruit which will be initializing a two qubit system into the Bell State*"
   ]
  },
  {
   "cell_type": "code",
   "execution_count": 32,
   "metadata": {},
   "outputs": [
    {
     "name": "stdout",
     "output_type": "stream",
     "text": [
      "Circuit:\n",
      "0: ───H───@───\n",
      "          │\n",
      "1: ───────X───\n",
      "\n",
      "Measurements:\n",
      "Counter({0: 28, 3: 22})\n"
     ]
    }
   ],
   "source": [
    "### Script for preparing the Bell state\n",
    "qreg = [cirq.LineQubit (x) for x in range (2)]\n",
    "circ = cirq.Circuit()\n",
    "\n",
    "# add the Bell State preparation Circuit\n",
    "circ.append([cirq.H(qreg[0]), cirq.CNOT(qreg[0], qreg[1])])\n",
    "             \n",
    "# display the circuit\n",
    "print(\"Circuit:\")\n",
    "print(circ)\n",
    "\n",
    "# add measurements             \n",
    "circ.append(cirq.measure(*qreg, key=\"z\"))\n",
    "\n",
    "#simulate the circuits\n",
    "sim = cirq.Simulator()\n",
    "res = sim.run(circ, repetitions = 50)\n",
    "             \n",
    "# display the outcomes\n",
    "print (\"\\nMeasurements:\")\n",
    "print (res.histogram(key=\"z\"))"
   ]
  },
  {
   "cell_type": "code",
   "execution_count": 8,
   "metadata": {
    "scrolled": true
   },
   "outputs": [
    {
     "name": "stdout",
     "output_type": "stream",
     "text": [
      "Circuit:\n",
      "0: ───X───\n",
      "\n",
      "Measurements:\n",
      "Counter({2: 50})\n"
     ]
    }
   ],
   "source": [
    "### Script for preparing the X Gate\n",
    "import cirq\n",
    "qreg = [cirq.LineQubit (x) for x in range (2)]\n",
    "circ = cirq.Circuit()\n",
    "\n",
    "# add the Bell State preparation Circuit\n",
    "circ.append([cirq.X(qreg[0])])\n",
    "             \n",
    "# display the circuit\n",
    "print(\"Circuit:\")\n",
    "print(circ)\n",
    "\n",
    "# add measurements             \n",
    "circ.append(cirq.measure(*qreg, key=\"z\"))\n",
    "\n",
    "#simulate the circuits\n",
    "sim = cirq.Simulator()\n",
    "res = sim.run(circ, repetitions = 50)\n",
    "             \n",
    "# display the outcomes\n",
    "print (\"\\nMeasurements:\")\n",
    "print (res.histogram(key=\"z\"))"
   ]
  },
  {
   "cell_type": "markdown",
   "metadata": {},
   "source": [
    "Circuits can be constructed in many different ways, by default  cirq will attempt to slide your operation into the earliest possible moment when you insert it."
   ]
  },
  {
   "cell_type": "code",
   "execution_count": 2,
   "metadata": {},
   "outputs": [
    {
     "name": "stdout",
     "output_type": "stream",
     "text": [
      "0: ───H───\n",
      "\n",
      "1: ───H───\n",
      "\n",
      "2: ───H───\n",
      "\n",
      "3: ───H───\n"
     ]
    }
   ],
   "source": [
    "import cirq\n",
    "circuit = cirq.Circuit()\n",
    "# You can create a circuit by appending to it\n",
    "circuit.append(cirq.H(q) for q in cirq.LineQubit.range(4))\n",
    "#All the gates are put into the same Moment since none overlap\n",
    "print(circuit)"
   ]
  },
  {
   "cell_type": "code",
   "execution_count": 6,
   "metadata": {},
   "outputs": [
    {
     "name": "stdout",
     "output_type": "stream",
     "text": [
      "0: ───×───────────\n",
      "      │\n",
      "1: ───×───×───────\n",
      "          │\n",
      "2: ───────×───×───\n",
      "              │\n",
      "3: ───────────×───\n"
     ]
    }
   ],
   "source": [
    "### Creating a circuit directly\n",
    "print(cirq.Circuit(cirq.SWAP(q, q+1) for q in cirq.LineQubit.range(3)))"
   ]
  },
  {
   "cell_type": "code",
   "execution_count": 8,
   "metadata": {},
   "outputs": [
    {
     "name": "stdout",
     "output_type": "stream",
     "text": [
      "0: ───H───────────\n",
      "\n",
      "1: ───────H───────\n",
      "\n",
      "2: ───────────H───\n"
     ]
    }
   ],
   "source": [
    "# Creates each gate in a separate moment.\n",
    "print(cirq.Circuit(cirq.Moment([cirq.H(q)]) for q in cirq.LineQubit.range(3)))"
   ]
  },
  {
   "cell_type": "code",
   "execution_count": null,
   "metadata": {},
   "outputs": [],
   "source": []
  }
 ],
 "metadata": {
  "kernelspec": {
   "display_name": "Python 3",
   "language": "python",
   "name": "python3"
  },
  "language_info": {
   "codemirror_mode": {
    "name": "ipython",
    "version": 3
   },
   "file_extension": ".py",
   "mimetype": "text/x-python",
   "name": "python",
   "nbconvert_exporter": "python",
   "pygments_lexer": "ipython3",
   "version": "3.6.8"
  }
 },
 "nbformat": 4,
 "nbformat_minor": 4
}
